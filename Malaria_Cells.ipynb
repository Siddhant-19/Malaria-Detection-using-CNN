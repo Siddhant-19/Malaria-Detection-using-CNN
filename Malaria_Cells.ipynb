{
 "cells": [
  {
   "cell_type": "markdown",
   "metadata": {
    "colab_type": "text",
    "id": "-BtcrigMyX5G"
   },
   "source": [
    "# Buliding CNN model for classification of Malaria Infected RBCs. \n",
    "\n",
    "**The code contains the following aspects:**\n",
    "1. Data Labeling\n",
    "2. Data Preprocessing (Image Agumentation)\n",
    "3. Creating train/test datasets\n",
    "4. Implementation of CNN model\n",
    "5. Prediction\n",
    "6. Analysing the prediction using confusion metrics"
   ]
  },
  {
   "cell_type": "markdown",
   "metadata": {},
   "source": [
    "# Packages Used"
   ]
  },
  {
   "cell_type": "code",
   "execution_count": 0,
   "metadata": {
    "colab": {},
    "colab_type": "code",
    "id": "IS6KrQGDddIB"
   },
   "outputs": [],
   "source": [
    "import numpy as np\n",
    "import pandas as pd \n",
    "import tensorflow as tf\n",
    "import cv2\n",
    "import matplotlib.pyplot as plt\n",
    "import seaborn as sns\n",
    "from PIL import Image\n",
    "import os\n",
    "\n",
    "from sklearn.model_selection import train_test_split\n",
    "from sklearn.metrics import confusion_matrix , classification_report , accuracy_score\n",
    "from mlxtend.plotting import plot_confusion_matrix\n",
    "\n",
    "from tensorflow.keras.models import Sequential\n",
    "from tensorflow.keras.layers import Dense, Conv2D, Flatten, Dropout, MaxPooling2D, GlobalAveragePooling2D, BatchNormalization, Activation\n",
    "from keras import backend as K\n",
    "from keras import optimizers\n",
    "from keras.utils import to_categorical\n",
    "\n",
    "from tensorflow.keras.preprocessing.image import ImageDataGenerator"
   ]
  },
  {
   "cell_type": "markdown",
   "metadata": {
    "colab_type": "text",
    "id": "hjIyl05pyS81"
   },
   "source": [
    "# Loading Dataset"
   ]
  },
  {
   "cell_type": "code",
   "execution_count": 0,
   "metadata": {
    "colab": {
     "base_uri": "https://localhost:8080/",
     "height": 74,
     "resources": {
      "http://localhost:8080/nbextensions/google.colab/files.js": {
       "data": "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",
       "headers": [
        [
         "content-type",
         "application/javascript"
        ]
       ],
       "ok": true,
       "status": 200,
       "status_text": ""
      }
     }
    },
    "colab_type": "code",
    "id": "4Uo3SShEzPH4",
    "outputId": "836a64a7-a674-4e5d-f456-9a0d09aeeb88"
   },
   "outputs": [
    {
     "data": {
      "text/html": [
       "\n",
       "     <input type=\"file\" id=\"files-4eb70c0e-264e-4113-b786-8490460f4b68\" name=\"files[]\" multiple disabled />\n",
       "     <output id=\"result-4eb70c0e-264e-4113-b786-8490460f4b68\">\n",
       "      Upload widget is only available when the cell has been executed in the\n",
       "      current browser session. Please rerun this cell to enable.\n",
       "      </output>\n",
       "      <script src=\"/nbextensions/google.colab/files.js\"></script> "
      ],
      "text/plain": [
       "<IPython.core.display.HTML object>"
      ]
     },
     "metadata": {
      "tags": []
     },
     "output_type": "display_data"
    },
    {
     "name": "stdout",
     "output_type": "stream",
     "text": [
      "Saving kaggle.json to kaggle (1).json\n"
     ]
    }
   ],
   "source": [
    "!mkdir -p ~/.kaggle\n",
    "\n",
    "# Colab library to upload files to notebook\n",
    "from google.colab import files\n",
    "\n",
    "# Install Kaggle library\n",
    "!pip install -q kaggle\n",
    "\n",
    "uploaded = files.upload()"
   ]
  },
  {
   "cell_type": "code",
   "execution_count": 0,
   "metadata": {
    "colab": {},
    "colab_type": "code",
    "id": "uUZ9DHxigIBs"
   },
   "outputs": [],
   "source": [
    "!cp kaggle.json ~/.kaggle/"
   ]
  },
  {
   "cell_type": "code",
   "execution_count": 0,
   "metadata": {
    "colab": {
     "base_uri": "https://localhost:8080/",
     "height": 102
    },
    "colab_type": "code",
    "id": "KVV-KzGRgTWy",
    "outputId": "21ee6104-85f0-45e2-e885-8c4eb43f9904"
   },
   "outputs": [
    {
     "name": "stdout",
     "output_type": "stream",
     "text": [
      "Warning: Your Kaggle API key is readable by other users on this system! To fix this, you can run 'chmod 600 /root/.kaggle/kaggle.json'\n",
      "Downloading cell-images-for-detecting-malaria.zip to /content\n",
      " 98% 660M/675M [00:07<00:00, 94.1MB/s]\n",
      "100% 675M/675M [00:07<00:00, 90.3MB/s]\n",
      "cell-images-for-detecting-malaria.zip  kaggle.json  sample_data\n"
     ]
    }
   ],
   "source": [
    "!kaggle datasets download -d iarunava/cell-images-for-detecting-malaria\n",
    "!ls"
   ]
  },
  {
   "cell_type": "code",
   "execution_count": 0,
   "metadata": {
    "colab": {
     "base_uri": "https://localhost:8080/",
     "height": 51
    },
    "colab_type": "code",
    "id": "Mwtupy74jChS",
    "outputId": "f056ad28-53c7-453e-ba39-97b34efe0825"
   },
   "outputs": [
    {
     "name": "stdout",
     "output_type": "stream",
     "text": [
      " cell_images\t\t\t\t'kaggle (1).json'   sample_data\n",
      " cell-images-for-detecting-malaria.zip\t kaggle.json\n"
     ]
    }
   ],
   "source": [
    "!unzip cell-images-for-detecting-malaria.zip\n",
    "!ls"
   ]
  },
  {
   "cell_type": "markdown",
   "metadata": {
    "colab_type": "text",
    "id": "kb1cyobfyLYg"
   },
   "source": [
    "# Data Preprocessing"
   ]
  },
  {
   "cell_type": "code",
   "execution_count": 0,
   "metadata": {
    "colab": {
     "base_uri": "https://localhost:8080/",
     "height": 34
    },
    "colab_type": "code",
    "id": "hrOhjWDcjMOb",
    "outputId": "b5f72e82-1210-4d37-8213-eb1260cd3371"
   },
   "outputs": [
    {
     "name": "stdout",
     "output_type": "stream",
     "text": [
      "['Uninfected', 'Parasitized']\n"
     ]
    }
   ],
   "source": [
    "print(os.listdir(\"./cell_images/cell_images\"))"
   ]
  },
  {
   "cell_type": "code",
   "execution_count": 0,
   "metadata": {
    "colab": {},
    "colab_type": "code",
    "id": "vLYZKDTfjakN"
   },
   "outputs": [],
   "source": [
    "infected = os.listdir('./cell_images/cell_images/Parasitized/') \n",
    "uninfected = os.listdir('./cell_images/cell_images/Uninfected/')"
   ]
  },
  {
   "cell_type": "code",
   "execution_count": 0,
   "metadata": {
    "colab": {
     "base_uri": "https://localhost:8080/",
     "height": 51
    },
    "colab_type": "code",
    "id": "Gyh_tOwUjoWn",
    "outputId": "27b3332d-237a-4659-b490-06cdac9cc1b7"
   },
   "outputs": [
    {
     "name": "stdout",
     "output_type": "stream",
     "text": [
      "\n",
      "\n"
     ]
    }
   ],
   "source": [
    "data = []\n",
    "labels = []\n",
    "data_rotate = []\n",
    "labels_rotate = []\n",
    "data_blur = []\n",
    "labels_blur = []\n",
    "\n",
    "for i in infected:\n",
    "    try:\n",
    "    \n",
    "        image = cv2.imread(\"./cell_images/cell_images/Parasitized/\"+i)\n",
    "        image_array = Image.fromarray(image , 'RGB')\n",
    "        resize_img = image_array.resize((50 , 50)) #image resizing\n",
    "        rotated120 = resize_img.rotate(120) #rotation\n",
    "        blur = cv2.blur(np.array(resize_img) ,(10,10)) #bluring\n",
    "        data.append(np.array(resize_img))\n",
    "        data_rotate.append(np.array(rotated120))\n",
    "        data_blur.append(np.array(blur))\n",
    "        label = to_categorical(1, num_classes=2) \n",
    "        labels.append(label)\n",
    "        label_rotate = to_categorical(1, num_classes=2) \n",
    "        labels_rotate.append(label_rotate)\n",
    "        label_blur = to_categorical(1, num_classes=2) \n",
    "        labels_blur.append(label_blur)\n",
    "        \n",
    "        \n",
    "        \n",
    "    except AttributeError:\n",
    "        print('')\n",
    "    \n",
    "for u in uninfected:\n",
    "    try:\n",
    "        \n",
    "        image = cv2.imread(\"./cell_images/cell_images/Uninfected/\"+u)\n",
    "        image_array = Image.fromarray(image , 'RGB')\n",
    "        resize_img = image_array.resize((50 , 50)) #image resizing\n",
    "        rotated120 = resize_img.rotate(120) #rotation\n",
    "        blur = cv2.blur(np.array(resize_img) ,(10,10)) #bluring\n",
    "        data.append(np.array(resize_img))\n",
    "        data_rotate.append(np.array(rotated120))\n",
    "        data_blur.append(np.array(blur)) \n",
    "        label = to_categorical(0, num_classes=2) \n",
    "        labels.append(label)\n",
    "        label_rotate = to_categorical(0, num_classes=2) \n",
    "        labels_rotate.append(label_rotate)\n",
    "        label_blur = to_categorical(0, num_classes=2) \n",
    "        labels_blur.append(label_blur)\n",
    "        \n",
    "    except AttributeError:\n",
    "        print('')\n",
    "\n",
    "data = np.array(data)\n",
    "data_rotate = np.array(data_rotate)\n",
    "data_blur = np.array(data_blur)\n",
    "labels = np.array(labels)\n",
    "labels_rotate = np.array(labels_rotate)\n",
    "labels_blur = np.array(labels_blur)\n",
    "\n",
    "\n",
    "np.save('Data' , data)\n",
    "np.save('Labels' , labels)\n",
    "np.save('Data_Rotate' , data_rotate)\n",
    "np.save('Labels_Rotate' , labels_rotate)\n",
    "np.save('Data_Blur' , data_blur)\n",
    "np.save('Labels_Blur' , labels_blur)"
   ]
  },
  {
   "cell_type": "code",
   "execution_count": 0,
   "metadata": {
    "colab": {
     "base_uri": "https://localhost:8080/",
     "height": 431
    },
    "colab_type": "code",
    "id": "lQ0dXH828j25",
    "outputId": "8466f305-3db0-4efa-800d-5016abd33aa9"
   },
   "outputs": [
    {
     "data": {
      "image/png": "[encoded data removed]",
      "text/plain": [
       "<Figure size 1080x504 with 6 Axes>"
      ]
     },
     "metadata": {
      "tags": []
     },
     "output_type": "display_data"
    }
   ],
   "source": [
    "plt.figure(3, figsize = (15 , 7))\n",
    "plt.subplot(3 , 2 , 1)\n",
    "plt.imshow(data[10])\n",
    "plt.title('Infected Cell')\n",
    "plt.xticks([]) , plt.yticks([])\n",
    "\n",
    "plt.subplot(3 , 2 , 2)\n",
    "plt.imshow(data[15000])\n",
    "plt.title('Uninfected Cell')\n",
    "plt.xticks([]) , plt.yticks([])\n",
    "\n",
    "plt.subplot(3 , 2 , 3)\n",
    "plt.imshow(data_rotate[10])\n",
    "plt.title('Infected Rotated Cell')\n",
    "plt.xticks([]) , plt.yticks([])\n",
    "\n",
    "plt.subplot(3 , 2 , 4)\n",
    "plt.imshow(data_rotate[15000])\n",
    "plt.title('Uninfected Rotated Cell')\n",
    "plt.xticks([]) , plt.yticks([])\n",
    "\n",
    "plt.subplot(3 , 2 , 5)\n",
    "plt.imshow(data_blur[10])\n",
    "plt.title('Infected Blurred Cell')\n",
    "plt.xticks([]) , plt.yticks([])\n",
    "\n",
    "plt.subplot(3 , 2 , 6)\n",
    "plt.imshow(data_blur[15000])\n",
    "plt.title('Uninfected Blurred Cell')\n",
    "plt.xticks([]) , plt.yticks([])\n",
    "\n",
    "plt.show()"
   ]
  },
  {
   "cell_type": "code",
   "execution_count": 0,
   "metadata": {
    "colab": {},
    "colab_type": "code",
    "id": "9e80ZFehN1k8"
   },
   "outputs": [],
   "source": [
    "n = np.arange(data.shape[0]) #shuffle images\n",
    "np.random.shuffle(n)\n",
    "data = data[n]\n",
    "labels = labels[n]\n",
    "\n",
    "np.random.shuffle(n)\n",
    "data_rotate = data_rotate[n]\n",
    "labels_rotate = labels_rotate[n]\n",
    "\n",
    "np.random.shuffle(n)\n",
    "data_blur = data_blur[n]\n",
    "labels_blur = labels_blur[n]"
   ]
  },
  {
   "cell_type": "code",
   "execution_count": 0,
   "metadata": {
    "colab": {},
    "colab_type": "code",
    "id": "0tN9g41lOEwW"
   },
   "outputs": [],
   "source": [
    "data = data.astype(np.float32)\n",
    "labels = labels.astype(np.int32)\n",
    "data = data/255 #reduce weight\n",
    "\n",
    "data_rotate = data_rotate.astype(np.float32)\n",
    "labels_rotate = labels_rotate.astype(np.int32)\n",
    "data_rotate = data_rotate/255\n",
    "\n",
    "data_blur = data_blur.astype(np.float32)\n",
    "labels_blur = labels_blur.astype(np.int32)\n",
    "data_blur = data_blur/255 "
   ]
  },
  {
   "cell_type": "code",
   "execution_count": 0,
   "metadata": {
    "colab": {
     "base_uri": "https://localhost:8080/",
     "height": 34
    },
    "colab_type": "code",
    "id": "TTE3s7IM8ZaQ",
    "outputId": "e5917373-83a9-4aee-ca10-d2a9a7c39bc8"
   },
   "outputs": [
    {
     "name": "stdout",
     "output_type": "stream",
     "text": [
      "Cells : (27558, 50, 50, 3) | Labels : (27558, 2)\n"
     ]
    }
   ],
   "source": [
    "print('Cells : {} | Labels : {}'.format(data.shape , labels.shape))"
   ]
  },
  {
   "cell_type": "markdown",
   "metadata": {
    "colab_type": "text",
    "id": "Oo83kwwVNrQD"
   },
   "source": [
    "**Train Test Split**"
   ]
  },
  {
   "cell_type": "code",
   "execution_count": 0,
   "metadata": {
    "colab": {},
    "colab_type": "code",
    "id": "SVS_OAX3NpAL"
   },
   "outputs": [],
   "source": [
    "x_train, x_test, y_train, y_test = train_test_split(data, labels, test_size=0.2, random_state=0)\n",
    "x_train_rotate, x_test_rotate, y_train_rotate, y_test_rotate = train_test_split(data_rotate, labels_rotate, test_size=0.2, random_state=0)\n",
    "x_train_blur, x_test_blur, y_train_blur, y_test_blur = train_test_split(data_blur, labels_blur, test_size=0.2, random_state=0)"
   ]
  },
  {
   "cell_type": "code",
   "execution_count": 0,
   "metadata": {
    "colab": {
     "base_uri": "https://localhost:8080/",
     "height": 85
    },
    "colab_type": "code",
    "id": "_n1Ya1hW-jeY",
    "outputId": "9702bfad-1bf8-4b60-efe3-127cb49330ab"
   },
   "outputs": [
    {
     "name": "stdout",
     "output_type": "stream",
     "text": [
      "SHAPE OF TRAINING IMAGE DATA : (22046, 50, 50, 3)\n",
      "SHAPE OF TESTING IMAGE DATA : (5512, 50, 50, 3)\n",
      "SHAPE OF TRAINING LABELS : (22046, 2)\n",
      "SHAPE OF TESTING LABELS : (5512, 2)\n"
     ]
    }
   ],
   "source": [
    "print(f'SHAPE OF TRAINING IMAGE DATA : {x_train.shape}')\n",
    "print(f'SHAPE OF TESTING IMAGE DATA : {x_test.shape}')\n",
    "print(f'SHAPE OF TRAINING LABELS : {y_train.shape}')\n",
    "print(f'SHAPE OF TESTING LABELS : {y_test.shape}')"
   ]
  },
  {
   "cell_type": "markdown",
   "metadata": {
    "colab_type": "text",
    "id": "Z-1DORxOyCZh"
   },
   "source": [
    "# CNN Model"
   ]
  },
  {
   "cell_type": "markdown",
   "metadata": {
    "colab_type": "text",
    "id": "UoSPvX61Molf"
   },
   "source": [
    "**Building CNN Layers**"
   ]
  },
  {
   "cell_type": "code",
   "execution_count": 0,
   "metadata": {
    "colab": {},
    "colab_type": "code",
    "id": "pwsVH74TMkmH"
   },
   "outputs": [],
   "source": [
    "def CNNbuild(height, width, classes, channels):\n",
    "    model = Sequential()\n",
    "    \n",
    "    inputShape = (height, width, channels)\n",
    "    chanDim = -1\n",
    "    \n",
    "    if K.image_data_format() == 'channels_first':\n",
    "        inputShape = (channels, height, width)\n",
    "    model.add(Conv2D(32, (3,3), activation = 'relu', input_shape = inputShape))\n",
    "    model.add(MaxPooling2D(2,2))\n",
    "    model.add(BatchNormalization(axis = chanDim))\n",
    "    model.add(Dropout(0.2))\n",
    "\n",
    "    model.add(Conv2D(64, (3,3), activation = 'relu'))\n",
    "    model.add(MaxPooling2D(2,2))\n",
    "    model.add(BatchNormalization(axis = chanDim))\n",
    "    model.add(Dropout(0.2))\n",
    "\n",
    "    model.add(Conv2D(128, (3,3), activation = 'relu'))\n",
    "    model.add(MaxPooling2D(2,2))\n",
    "    model.add(BatchNormalization(axis = chanDim))\n",
    "    model.add(Dropout(0.2))\n",
    "\n",
    "    model.add(Flatten())\n",
    "    \n",
    "    model.add(Dense(512, activation = 'relu'))\n",
    "    model.add(BatchNormalization(axis = chanDim))\n",
    "    model.add(Dropout(0.5))\n",
    "    model.add(Dense(classes, activation = 'softmax'))\n",
    "    \n",
    "    return model"
   ]
  },
  {
   "cell_type": "code",
   "execution_count": 0,
   "metadata": {
    "colab": {
     "base_uri": "https://localhost:8080/",
     "height": 731
    },
    "colab_type": "code",
    "id": "um8RnvfhGh2M",
    "outputId": "41d5baeb-ffc2-46e9-9774-7cbff3e2a251"
   },
   "outputs": [
    {
     "name": "stdout",
     "output_type": "stream",
     "text": [
      "Model: \"sequential_2\"\n",
      "_________________________________________________________________\n",
      "Layer (type)                 Output Shape              Param #   \n",
      "=================================================================\n",
      "conv2d_3 (Conv2D)            (None, 48, 48, 32)        896       \n",
      "_________________________________________________________________\n",
      "max_pooling2d_3 (MaxPooling2 (None, 24, 24, 32)        0         \n",
      "_________________________________________________________________\n",
      "batch_normalization_4 (Batch (None, 24, 24, 32)        128       \n",
      "_________________________________________________________________\n",
      "dropout_4 (Dropout)          (None, 24, 24, 32)        0         \n",
      "_________________________________________________________________\n",
      "conv2d_4 (Conv2D)            (None, 22, 22, 64)        18496     \n",
      "_________________________________________________________________\n",
      "max_pooling2d_4 (MaxPooling2 (None, 11, 11, 64)        0         \n",
      "_________________________________________________________________\n",
      "batch_normalization_5 (Batch (None, 11, 11, 64)        256       \n",
      "_________________________________________________________________\n",
      "dropout_5 (Dropout)          (None, 11, 11, 64)        0         \n",
      "_________________________________________________________________\n",
      "conv2d_5 (Conv2D)            (None, 9, 9, 128)         73856     \n",
      "_________________________________________________________________\n",
      "max_pooling2d_5 (MaxPooling2 (None, 4, 4, 128)         0         \n",
      "_________________________________________________________________\n",
      "batch_normalization_6 (Batch (None, 4, 4, 128)         512       \n",
      "_________________________________________________________________\n",
      "dropout_6 (Dropout)          (None, 4, 4, 128)         0         \n",
      "_________________________________________________________________\n",
      "flatten_1 (Flatten)          (None, 2048)              0         \n",
      "_________________________________________________________________\n",
      "dense_2 (Dense)              (None, 512)               1049088   \n",
      "_________________________________________________________________\n",
      "batch_normalization_7 (Batch (None, 512)               2048      \n",
      "_________________________________________________________________\n",
      "dropout_7 (Dropout)          (None, 512)               0         \n",
      "_________________________________________________________________\n",
      "dense_3 (Dense)              (None, 2)                 1026      \n",
      "=================================================================\n",
      "Total params: 1,146,306\n",
      "Trainable params: 1,144,834\n",
      "Non-trainable params: 1,472\n",
      "_________________________________________________________________\n"
     ]
    }
   ],
   "source": [
    "model = CNNbuild(height = 50, width = 50, classes = 2, channels = 3)\n",
    "model.summary()"
   ]
  },
  {
   "cell_type": "code",
   "execution_count": 0,
   "metadata": {
    "colab": {},
    "colab_type": "code",
    "id": "Wjv3RvwUJ0xu"
   },
   "outputs": [],
   "source": [
    "model.compile(loss = 'categorical_crossentropy', optimizer = 'Adam', metrics = ['accuracy'])"
   ]
  },
  {
   "cell_type": "markdown",
   "metadata": {
    "colab_type": "text",
    "id": "cnVVUMDkx6aU"
   },
   "source": [
    "# Model Implementation and Evaluation"
   ]
  },
  {
   "cell_type": "markdown",
   "metadata": {
    "colab_type": "text",
    "id": "6HVzSu9hQHhn"
   },
   "source": [
    "**Unaltered Data**"
   ]
  },
  {
   "cell_type": "code",
   "execution_count": 0,
   "metadata": {
    "colab": {
     "base_uri": "https://localhost:8080/",
     "height": 714
    },
    "colab_type": "code",
    "id": "l89pPblyKC1G",
    "outputId": "9220466b-4b8f-4d1e-d382-6b13c1e78140"
   },
   "outputs": [
    {
     "name": "stdout",
     "output_type": "stream",
     "text": [
      "Train on 22046 samples\n",
      "Epoch 1/20\n",
      "22046/22046 [==============================] - 108s 5ms/sample - loss: 0.4379 - acc: 0.8322\n",
      "Epoch 2/20\n",
      "22046/22046 [==============================] - 107s 5ms/sample - loss: 0.2011 - acc: 0.9277\n",
      "Epoch 3/20\n",
      "22046/22046 [==============================] - 108s 5ms/sample - loss: 0.1690 - acc: 0.9413\n",
      "Epoch 4/20\n",
      "22046/22046 [==============================] - 107s 5ms/sample - loss: 0.1597 - acc: 0.9457\n",
      "Epoch 5/20\n",
      "22046/22046 [==============================] - 107s 5ms/sample - loss: 0.1563 - acc: 0.9482\n",
      "Epoch 6/20\n",
      "22046/22046 [==============================] - 107s 5ms/sample - loss: 0.1511 - acc: 0.9491\n",
      "Epoch 7/20\n",
      "22046/22046 [==============================] - 107s 5ms/sample - loss: 0.1497 - acc: 0.9517\n",
      "Epoch 8/20\n",
      "22046/22046 [==============================] - 107s 5ms/sample - loss: 0.1467 - acc: 0.9522\n",
      "Epoch 9/20\n",
      "22046/22046 [==============================] - 106s 5ms/sample - loss: 0.1426 - acc: 0.9511\n",
      "Epoch 10/20\n",
      "22046/22046 [==============================] - 107s 5ms/sample - loss: 0.1393 - acc: 0.9539\n",
      "Epoch 11/20\n",
      "22046/22046 [==============================] - 107s 5ms/sample - loss: 0.1358 - acc: 0.9550\n",
      "Epoch 12/20\n",
      "22046/22046 [==============================] - 107s 5ms/sample - loss: 0.1327 - acc: 0.9575\n",
      "Epoch 13/20\n",
      "22046/22046 [==============================] - 106s 5ms/sample - loss: 0.1292 - acc: 0.9561\n",
      "Epoch 14/20\n",
      "22046/22046 [==============================] - 107s 5ms/sample - loss: 0.1251 - acc: 0.9575\n",
      "Epoch 15/20\n",
      "22046/22046 [==============================] - 107s 5ms/sample - loss: 0.1262 - acc: 0.9590\n",
      "Epoch 16/20\n",
      "22046/22046 [==============================] - 107s 5ms/sample - loss: 0.1241 - acc: 0.9577\n",
      "Epoch 17/20\n",
      "22046/22046 [==============================] - 108s 5ms/sample - loss: 0.1220 - acc: 0.9587\n",
      "Epoch 18/20\n",
      "22046/22046 [==============================] - 107s 5ms/sample - loss: 0.1152 - acc: 0.9606\n",
      "Epoch 19/20\n",
      "22046/22046 [==============================] - 107s 5ms/sample - loss: 0.1127 - acc: 0.9610\n",
      "Epoch 20/20\n",
      "22046/22046 [==============================] - 107s 5ms/sample - loss: 0.1135 - acc: 0.9613\n"
     ]
    }
   ],
   "source": [
    "fitting = model.fit(x_train, y_train, epochs = 20, batch_size = 32)"
   ]
  },
  {
   "cell_type": "code",
   "execution_count": 0,
   "metadata": {
    "colab": {
     "base_uri": "https://localhost:8080/",
     "height": 34
    },
    "colab_type": "code",
    "id": "5sQsV4xJPsWT",
    "outputId": "81507bd4-9bb4-49ff-e7da-4a554835acc6"
   },
   "outputs": [
    {
     "name": "stdout",
     "output_type": "stream",
     "text": [
      "5512/5512 [==============================] - 7s 1ms/sample - loss: 0.1485 - acc: 0.9539\n"
     ]
    }
   ],
   "source": [
    "predictions = model.evaluate(x_test, y_test)"
   ]
  },
  {
   "cell_type": "code",
   "execution_count": 0,
   "metadata": {
    "colab": {},
    "colab_type": "code",
    "id": "4nbhemD7xFjC"
   },
   "outputs": [],
   "source": [
    "pred_label = model.predict(x_test)"
   ]
  },
  {
   "cell_type": "code",
   "execution_count": 0,
   "metadata": {
    "colab": {
     "base_uri": "https://localhost:8080/",
     "height": 51
    },
    "colab_type": "code",
    "id": "F7yG2IruWcil",
    "outputId": "79d5c161-db28-4fe1-80a3-8608e3af5130"
   },
   "outputs": [
    {
     "name": "stdout",
     "output_type": "stream",
     "text": [
      "[0 1 0 ... 1 1 0]\n",
      "[1 1 0 ... 1 1 0]\n"
     ]
    }
   ],
   "source": [
    "pred_label = np.argmax(pred_label, axis=-1)\n",
    "true_label = np.argmax(y_test, axis = -1)\n",
    "\n",
    "print(pred_label)\n",
    "print(true_label)"
   ]
  },
  {
   "cell_type": "code",
   "execution_count": 0,
   "metadata": {
    "colab": {
     "base_uri": "https://localhost:8080/",
     "height": 204
    },
    "colab_type": "code",
    "id": "XPaIvcRFQNzc",
    "outputId": "a57ab986-e000-496e-9690-efafab987655"
   },
   "outputs": [
    {
     "name": "stdout",
     "output_type": "stream",
     "text": [
      "              precision    recall  f1-score   support\n",
      "\n",
      "           0       0.96      0.95      0.95      2784\n",
      "           1       0.95      0.96      0.95      2728\n",
      "\n",
      "    accuracy                           0.95      5512\n",
      "   macro avg       0.95      0.95      0.95      5512\n",
      "weighted avg       0.95      0.95      0.95      5512\n",
      "\n",
      "Loss : 0.148488965874919\n",
      "Accuracy : 0.9539186954498291\n"
     ]
    }
   ],
   "source": [
    "print(classification_report(true_label , pred_label))\n",
    "print(f'Loss : {predictions[0]}')\n",
    "print(f'Accuracy : {predictions[1]}')"
   ]
  },
  {
   "cell_type": "code",
   "execution_count": 0,
   "metadata": {
    "colab": {
     "base_uri": "https://localhost:8080/",
     "height": 519
    },
    "colab_type": "code",
    "id": "W6toqM8hQOAu",
    "outputId": "5a890f4c-b0e7-47d4-eee3-5d1b9295e060"
   },
   "outputs": [
    {
     "data": {
      "text/plain": [
       "<Figure size 432x288 with 0 Axes>"
      ]
     },
     "metadata": {
      "tags": []
     },
     "output_type": "display_data"
    },
    {
     "data": {
      "image/png": "[encoded data removed]",
      "text/plain": [
       "<Figure size 864x576 with 1 Axes>"
      ]
     },
     "metadata": {
      "tags": []
     },
     "output_type": "display_data"
    }
   ],
   "source": [
    "conf_matrix=confusion_matrix(true_label , pred_label)\n",
    "plt.figure()\n",
    "plot_confusion_matrix(conf_matrix, figsize=(12,8), hide_ticks=True, cmap=plt.cm.bone_r)\n",
    "plt.xticks(range(2), ['Healthy', 'Infected'], fontsize=16)\n",
    "plt.yticks(range(2), ['Healthy', 'Infected'], fontsize=16)\n",
    "plt.show()"
   ]
  },
  {
   "cell_type": "markdown",
   "metadata": {
    "colab_type": "text",
    "id": "M-rnbJbRQOe3"
   },
   "source": [
    "**Rotated Data**"
   ]
  },
  {
   "cell_type": "code",
   "execution_count": 0,
   "metadata": {
    "colab": {
     "base_uri": "https://localhost:8080/",
     "height": 714
    },
    "colab_type": "code",
    "id": "JEhOAKmEQepd",
    "outputId": "66aabea9-bb99-4235-fe71-b88df503382f"
   },
   "outputs": [
    {
     "name": "stdout",
     "output_type": "stream",
     "text": [
      "Train on 22046 samples\n",
      "Epoch 1/20\n",
      "22046/22046 [==============================] - 109s 5ms/sample - loss: 0.1707 - acc: 0.9418\n",
      "Epoch 2/20\n",
      "22046/22046 [==============================] - 108s 5ms/sample - loss: 0.1546 - acc: 0.9450\n",
      "Epoch 3/20\n",
      "22046/22046 [==============================] - 108s 5ms/sample - loss: 0.1530 - acc: 0.9467\n",
      "Epoch 4/20\n",
      "22046/22046 [==============================] - 107s 5ms/sample - loss: 0.1492 - acc: 0.9492\n",
      "Epoch 5/20\n",
      "22046/22046 [==============================] - 107s 5ms/sample - loss: 0.1411 - acc: 0.9504\n",
      "Epoch 6/20\n",
      "22046/22046 [==============================] - 107s 5ms/sample - loss: 0.1362 - acc: 0.9509\n",
      "Epoch 7/20\n",
      "22046/22046 [==============================] - 107s 5ms/sample - loss: 0.1335 - acc: 0.9528\n",
      "Epoch 8/20\n",
      "22046/22046 [==============================] - 107s 5ms/sample - loss: 0.1356 - acc: 0.9530\n",
      "Epoch 9/20\n",
      "22046/22046 [==============================] - 108s 5ms/sample - loss: 0.1312 - acc: 0.9536\n",
      "Epoch 10/20\n",
      "22046/22046 [==============================] - 108s 5ms/sample - loss: 0.1290 - acc: 0.9556\n",
      "Epoch 11/20\n",
      "22046/22046 [==============================] - 107s 5ms/sample - loss: 0.1217 - acc: 0.9566\n",
      "Epoch 12/20\n",
      "22046/22046 [==============================] - 106s 5ms/sample - loss: 0.1221 - acc: 0.9577\n",
      "Epoch 13/20\n",
      "22046/22046 [==============================] - 107s 5ms/sample - loss: 0.1226 - acc: 0.9565\n",
      "Epoch 14/20\n",
      "22046/22046 [==============================] - 107s 5ms/sample - loss: 0.1187 - acc: 0.9587\n",
      "Epoch 15/20\n",
      "22046/22046 [==============================] - 107s 5ms/sample - loss: 0.1180 - acc: 0.9584\n",
      "Epoch 16/20\n",
      "22046/22046 [==============================] - 107s 5ms/sample - loss: 0.1140 - acc: 0.9594\n",
      "Epoch 17/20\n",
      "22046/22046 [==============================] - 108s 5ms/sample - loss: 0.1143 - acc: 0.9592\n",
      "Epoch 18/20\n",
      "22046/22046 [==============================] - 107s 5ms/sample - loss: 0.1114 - acc: 0.9592\n",
      "Epoch 19/20\n",
      "22046/22046 [==============================] - 107s 5ms/sample - loss: 0.1099 - acc: 0.9628\n",
      "Epoch 20/20\n",
      "22046/22046 [==============================] - 106s 5ms/sample - loss: 0.1001 - acc: 0.9645\n"
     ]
    }
   ],
   "source": [
    "fitting_rotate = model.fit(x_train_rotate, y_train_rotate, epochs = 20, batch_size = 32)"
   ]
  },
  {
   "cell_type": "code",
   "execution_count": 0,
   "metadata": {
    "colab": {
     "base_uri": "https://localhost:8080/",
     "height": 34
    },
    "colab_type": "code",
    "id": "5qdol6e8zMus",
    "outputId": "87ed8b90-14b0-4f3b-c88a-0daadcff4d21"
   },
   "outputs": [
    {
     "name": "stdout",
     "output_type": "stream",
     "text": [
      "5512/5512 [==============================] - 7s 1ms/sample - loss: 0.1257 - acc: 0.9597\n"
     ]
    }
   ],
   "source": [
    "predictions_rotate = model.evaluate(x_test_rotate, y_test_rotate)"
   ]
  },
  {
   "cell_type": "code",
   "execution_count": 0,
   "metadata": {
    "colab": {},
    "colab_type": "code",
    "id": "w7tpeAQazTPN"
   },
   "outputs": [],
   "source": [
    "pred_label_rotate = model.predict(x_test_rotate)"
   ]
  },
  {
   "cell_type": "code",
   "execution_count": 0,
   "metadata": {
    "colab": {
     "base_uri": "https://localhost:8080/",
     "height": 51
    },
    "colab_type": "code",
    "id": "MFnEDe-WzXdl",
    "outputId": "a77a6c9e-c05f-4853-b63e-15eb69161186"
   },
   "outputs": [
    {
     "name": "stdout",
     "output_type": "stream",
     "text": [
      "[1 0 0 ... 1 1 0]\n",
      "[1 0 0 ... 1 1 0]\n"
     ]
    }
   ],
   "source": [
    "pred_label_rotate = np.argmax(pred_label_rotate, axis=-1)\n",
    "true_label_rotate = np.argmax(y_test_rotate, axis = -1)\n",
    "\n",
    "print(pred_label_rotate)\n",
    "print(true_label_rotate)"
   ]
  },
  {
   "cell_type": "code",
   "execution_count": 0,
   "metadata": {
    "colab": {
     "base_uri": "https://localhost:8080/",
     "height": 204
    },
    "colab_type": "code",
    "id": "a39ersYQzoVe",
    "outputId": "b0eb115d-ea99-44cb-b420-13cc7ab5bb96"
   },
   "outputs": [
    {
     "name": "stdout",
     "output_type": "stream",
     "text": [
      "              precision    recall  f1-score   support\n",
      "\n",
      "           0       0.95      0.97      0.96      2805\n",
      "           1       0.97      0.95      0.96      2707\n",
      "\n",
      "    accuracy                           0.96      5512\n",
      "   macro avg       0.96      0.96      0.96      5512\n",
      "weighted avg       0.96      0.96      0.96      5512\n",
      "\n",
      "Loss : 0.1256757519700928\n",
      "Accuracy : 0.9597242474555969\n"
     ]
    }
   ],
   "source": [
    "print(classification_report(true_label_rotate , pred_label_rotate))\n",
    "print(f'Loss : {predictions_rotate[0]}')\n",
    "print(f'Accuracy : {predictions_rotate[1]}')"
   ]
  },
  {
   "cell_type": "code",
   "execution_count": 0,
   "metadata": {
    "colab": {
     "base_uri": "https://localhost:8080/",
     "height": 519
    },
    "colab_type": "code",
    "id": "0fy-uwTNzwKl",
    "outputId": "8bc3cda2-def3-4832-9fa2-0377ad0915e2"
   },
   "outputs": [
    {
     "data": {
      "text/plain": [
       "<Figure size 432x288 with 0 Axes>"
      ]
     },
     "metadata": {
      "tags": []
     },
     "output_type": "display_data"
    },
    {
     "data": {
      "image/png": "[encoded data removed]",
      "text/plain": [
       "<Figure size 864x576 with 1 Axes>"
      ]
     },
     "metadata": {
      "tags": []
     },
     "output_type": "display_data"
    }
   ],
   "source": [
    "conf_matrix_rotate=confusion_matrix(true_label_rotate , pred_label_rotate)\n",
    "plt.figure()\n",
    "plot_confusion_matrix(conf_matrix_rotate, figsize=(12,8), hide_ticks=True, cmap=plt.cm.Blues)\n",
    "plt.xticks(range(2), ['Healthy', 'Infected'], fontsize=16)\n",
    "plt.yticks(range(2), ['Healthy', 'Infected'], fontsize=16)\n",
    "plt.show()"
   ]
  },
  {
   "cell_type": "markdown",
   "metadata": {
    "colab_type": "text",
    "id": "fjaSjOIEz5kV"
   },
   "source": [
    "**Blurred Data**"
   ]
  },
  {
   "cell_type": "code",
   "execution_count": 0,
   "metadata": {
    "colab": {
     "base_uri": "https://localhost:8080/",
     "height": 714
    },
    "colab_type": "code",
    "id": "HhDI6v8p0FL6",
    "outputId": "dece99ff-6e67-45f6-8509-7d98dbb4595b"
   },
   "outputs": [
    {
     "name": "stdout",
     "output_type": "stream",
     "text": [
      "Train on 22046 samples\n",
      "Epoch 1/20\n",
      "22046/22046 [==============================] - 106s 5ms/sample - loss: 0.2586 - acc: 0.9071\n",
      "Epoch 2/20\n",
      "22046/22046 [==============================] - 106s 5ms/sample - loss: 0.2048 - acc: 0.9254\n",
      "Epoch 3/20\n",
      "22046/22046 [==============================] - 106s 5ms/sample - loss: 0.1905 - acc: 0.9321\n",
      "Epoch 4/20\n",
      "22046/22046 [==============================] - 106s 5ms/sample - loss: 0.1794 - acc: 0.9366\n",
      "Epoch 5/20\n",
      "22046/22046 [==============================] - 107s 5ms/sample - loss: 0.1701 - acc: 0.9414\n",
      "Epoch 6/20\n",
      "22046/22046 [==============================] - 107s 5ms/sample - loss: 0.1780 - acc: 0.9364\n",
      "Epoch 7/20\n",
      "22046/22046 [==============================] - 107s 5ms/sample - loss: 0.1554 - acc: 0.9446\n",
      "Epoch 8/20\n",
      "22046/22046 [==============================] - 108s 5ms/sample - loss: 0.1745 - acc: 0.9367\n",
      "Epoch 9/20\n",
      "22046/22046 [==============================] - 107s 5ms/sample - loss: 0.1662 - acc: 0.9385\n",
      "Epoch 10/20\n",
      "22046/22046 [==============================] - 108s 5ms/sample - loss: 0.1563 - acc: 0.9443\n",
      "Epoch 11/20\n",
      "22046/22046 [==============================] - 108s 5ms/sample - loss: 0.1494 - acc: 0.9466\n",
      "Epoch 12/20\n",
      "22046/22046 [==============================] - 107s 5ms/sample - loss: 0.1487 - acc: 0.9469\n",
      "Epoch 13/20\n",
      "22046/22046 [==============================] - 107s 5ms/sample - loss: 0.1463 - acc: 0.9479\n",
      "Epoch 14/20\n",
      "22046/22046 [==============================] - 108s 5ms/sample - loss: 0.1435 - acc: 0.9483\n",
      "Epoch 15/20\n",
      "22046/22046 [==============================] - 107s 5ms/sample - loss: 0.1415 - acc: 0.9504\n",
      "Epoch 16/20\n",
      "22046/22046 [==============================] - 107s 5ms/sample - loss: 0.1384 - acc: 0.9509\n",
      "Epoch 17/20\n",
      "22046/22046 [==============================] - 107s 5ms/sample - loss: 0.1326 - acc: 0.9532\n",
      "Epoch 18/20\n",
      "22046/22046 [==============================] - 107s 5ms/sample - loss: 0.1333 - acc: 0.9516\n",
      "Epoch 19/20\n",
      "22046/22046 [==============================] - 107s 5ms/sample - loss: 0.1324 - acc: 0.9545\n",
      "Epoch 20/20\n",
      "22046/22046 [==============================] - 108s 5ms/sample - loss: 0.1358 - acc: 0.9511\n"
     ]
    }
   ],
   "source": [
    "fitting_blur = model.fit(x_train_blur, y_train_blur, epochs = 20, batch_size = 32)"
   ]
  },
  {
   "cell_type": "code",
   "execution_count": 0,
   "metadata": {
    "colab": {
     "base_uri": "https://localhost:8080/",
     "height": 34
    },
    "colab_type": "code",
    "id": "6Ndh6PWH1Lf5",
    "outputId": "18ba6e94-6742-4f5f-be24-bd2c580f70d3"
   },
   "outputs": [
    {
     "name": "stdout",
     "output_type": "stream",
     "text": [
      "5512/5512 [==============================] - 8s 1ms/sample - loss: 0.1873 - acc: 0.9349\n"
     ]
    }
   ],
   "source": [
    "predictions_blur = model.evaluate(x_test_blur , y_test_blur)"
   ]
  },
  {
   "cell_type": "code",
   "execution_count": 0,
   "metadata": {
    "colab": {},
    "colab_type": "code",
    "id": "VGQvutrj0WQh"
   },
   "outputs": [],
   "source": [
    "pred_label_blur = model.predict(x_test_blur)"
   ]
  },
  {
   "cell_type": "code",
   "execution_count": 0,
   "metadata": {
    "colab": {
     "base_uri": "https://localhost:8080/",
     "height": 51
    },
    "colab_type": "code",
    "id": "Nmsa0Phd1m7Y",
    "outputId": "520405d9-775a-4026-adc3-43c815d937be"
   },
   "outputs": [
    {
     "name": "stdout",
     "output_type": "stream",
     "text": [
      "[0 1 1 ... 0 0 0]\n",
      "[0 1 1 ... 0 0 0]\n"
     ]
    }
   ],
   "source": [
    "pred_label_blur = np.argmax(pred_label_blur, axis=-1)\n",
    "true_label_blur = np.argmax(y_test_blur, axis = -1)\n",
    "\n",
    "print(pred_label_blur)\n",
    "print(true_label_blur)"
   ]
  },
  {
   "cell_type": "code",
   "execution_count": 0,
   "metadata": {
    "colab": {
     "base_uri": "https://localhost:8080/",
     "height": 204
    },
    "colab_type": "code",
    "id": "IoynLnHd1wMh",
    "outputId": "c8e5c998-e4f9-4bb7-faf7-69af401b86e6"
   },
   "outputs": [
    {
     "name": "stdout",
     "output_type": "stream",
     "text": [
      "              precision    recall  f1-score   support\n",
      "\n",
      "           0       0.90      0.98      0.94      2771\n",
      "           1       0.97      0.89      0.93      2741\n",
      "\n",
      "    accuracy                           0.93      5512\n",
      "   macro avg       0.94      0.93      0.93      5512\n",
      "weighted avg       0.94      0.93      0.93      5512\n",
      "\n",
      "Loss : 0.18730556589101152\n",
      "Accuracy : 0.9348693490028381\n"
     ]
    }
   ],
   "source": [
    "print(classification_report(true_label_blur , pred_label_blur))\n",
    "print(f'Loss : {predictions_blur[0]}')\n",
    "print(f'Accuracy : {predictions_blur[1]}')"
   ]
  },
  {
   "cell_type": "code",
   "execution_count": 0,
   "metadata": {
    "colab": {
     "base_uri": "https://localhost:8080/",
     "height": 519
    },
    "colab_type": "code",
    "id": "htrycRlb11dW",
    "outputId": "65d9d42c-0249-4883-acdb-fc85645799c7"
   },
   "outputs": [
    {
     "data": {
      "text/plain": [
       "<Figure size 432x288 with 0 Axes>"
      ]
     },
     "metadata": {
      "tags": []
     },
     "output_type": "display_data"
    },
    {
     "data": {
      "image/png": "[encoded data removed]",
      "text/plain": [
       "<Figure size 864x576 with 1 Axes>"
      ]
     },
     "metadata": {
      "tags": []
     },
     "output_type": "display_data"
    }
   ],
   "source": [
    "conf_matrix_blur=confusion_matrix(true_label_blur , pred_label_blur)\n",
    "plt.figure()\n",
    "plot_confusion_matrix(conf_matrix_blur, figsize=(12,8), hide_ticks=True, cmap=plt.cm.jet)\n",
    "plt.xticks(range(2), ['Healthy', 'Infected'], fontsize=16)\n",
    "plt.yticks(range(2), ['Healthy', 'Infected'], fontsize=16)\n",
    "plt.show()"
   ]
  }
 ],
 "metadata": {
  "colab": {
   "collapsed_sections": [
    "-BtcrigMyX5G",
    "hjIyl05pyS81",
    "kb1cyobfyLYg",
    "Z-1DORxOyCZh"
   ],
   "name": "Malaria Cells.ipynb",
   "provenance": []
  },
  "kernelspec": {
   "display_name": "Python 3",
   "language": "python",
   "name": "python3"
  },
  "language_info": {
   "codemirror_mode": {
    "name": "ipython",
    "version": 3
   },
   "file_extension": ".py",
   "mimetype": "text/x-python",
   "name": "python",
   "nbconvert_exporter": "python",
   "pygments_lexer": "ipython3",
   "version": "3.7.5"
  }
 },
 "nbformat": 4,
 "nbformat_minor": 1
}
